{
 "cells": [
  {
   "cell_type": "code",
   "execution_count": 1,
   "id": "8288e13c-f498-42a8-a603-5e84756cecc0",
   "metadata": {},
   "outputs": [],
   "source": [
    "import numpy as np\n",
    "import pandas as pd"
   ]
  },
  {
   "cell_type": "code",
   "execution_count": 41,
   "id": "5c42b2f2-8086-4f63-a447-214a1b9c3a99",
   "metadata": {},
   "outputs": [],
   "source": [
    "labels=['w','x','y','z']\n",
    "ab=np.array([10,20,30,40])\n",
    "ar=np.array([10,20,30,40])\n",
    "dict= {'w':10, 'x':[40,39,29], 'y':30,'z':['a','d','test']}\n"
   ]
  },
  {
   "cell_type": "code",
   "execution_count": 42,
   "id": "53fd6c88-d86f-422b-b3a2-f5fe181f18a1",
   "metadata": {},
   "outputs": [
    {
     "data": {
      "text/plain": [
       "['w', 'x', 'y', 'z']"
      ]
     },
     "execution_count": 42,
     "metadata": {},
     "output_type": "execute_result"
    }
   ],
   "source": [
    "labels"
   ]
  },
  {
   "cell_type": "code",
   "execution_count": 43,
   "id": "c5f22cc3-4fcf-424d-ae4e-334c89be6a77",
   "metadata": {},
   "outputs": [
    {
     "data": {
      "text/plain": [
       "np.float64(25.0)"
      ]
     },
     "execution_count": 43,
     "metadata": {},
     "output_type": "execute_result"
    }
   ],
   "source": [
    "ab.mean()"
   ]
  },
  {
   "cell_type": "code",
   "execution_count": null,
   "id": "438bfba7-4b0d-4892-8223-393e84e9dee0",
   "metadata": {},
   "outputs": [],
   "source": [
    "#Using lists"
   ]
  },
  {
   "cell_type": "code",
   "execution_count": 5,
   "id": "9385df3a-b44e-4335-a37b-21bf5a0162e2",
   "metadata": {},
   "outputs": [
    {
     "data": {
      "text/plain": [
       "np.float64(25.0)"
      ]
     },
     "execution_count": 5,
     "metadata": {},
     "output_type": "execute_result"
    }
   ],
   "source": [
    "ar.mean()"
   ]
  },
  {
   "cell_type": "code",
   "execution_count": 6,
   "id": "703da3bf-9fc7-4b9f-b7ee-4b8594125e0b",
   "metadata": {},
   "outputs": [
    {
     "data": {
      "text/plain": [
       "0    10\n",
       "1    20\n",
       "2    30\n",
       "3    40\n",
       "dtype: int64"
      ]
     },
     "execution_count": 6,
     "metadata": {},
     "output_type": "execute_result"
    }
   ],
   "source": [
    "pd.Series(data=ab)"
   ]
  },
  {
   "cell_type": "code",
   "execution_count": 7,
   "id": "0caac0c7-82ff-48fc-85bc-1008406c8779",
   "metadata": {},
   "outputs": [
    {
     "data": {
      "text/plain": [
       "w    10\n",
       "x    20\n",
       "y    30\n",
       "z    40\n",
       "dtype: int64"
      ]
     },
     "execution_count": 7,
     "metadata": {},
     "output_type": "execute_result"
    }
   ],
   "source": [
    "pd.Series(data=ab, index=labels)"
   ]
  },
  {
   "cell_type": "code",
   "execution_count": 8,
   "id": "6aa36e07-ef13-4978-b841-1c85e9886454",
   "metadata": {},
   "outputs": [
    {
     "data": {
      "text/plain": [
       "w    10\n",
       "x    20\n",
       "y    30\n",
       "z    40\n",
       "dtype: int64"
      ]
     },
     "execution_count": 8,
     "metadata": {},
     "output_type": "execute_result"
    }
   ],
   "source": [
    "pd.Series(ab,labels)"
   ]
  },
  {
   "cell_type": "code",
   "execution_count": 9,
   "id": "0e7e1df7-b870-42f6-a36d-61a7194da12a",
   "metadata": {},
   "outputs": [
    {
     "data": {
      "text/plain": [
       "w              10\n",
       "x    [40, 39, 29]\n",
       "y              30\n",
       "z    [a, d, test]\n",
       "dtype: object"
      ]
     },
     "execution_count": 9,
     "metadata": {},
     "output_type": "execute_result"
    }
   ],
   "source": [
    "pd.Series(dict)"
   ]
  },
  {
   "cell_type": "code",
   "execution_count": 10,
   "id": "3f0a4d8b-44e6-40b7-bb24-5fa70333c6ab",
   "metadata": {},
   "outputs": [],
   "source": [
    "sports1= pd.Series([1,2,3,4], index=['Cricket', 'Football', 'Basketball', 'Golf'])"
   ]
  },
  {
   "cell_type": "code",
   "execution_count": 11,
   "id": "1ba68f55-7b9f-4084-a4d8-dd34df5b79bd",
   "metadata": {},
   "outputs": [
    {
     "data": {
      "text/plain": [
       "Cricket       1\n",
       "Football      2\n",
       "Basketball    3\n",
       "Golf          4\n",
       "dtype: int64"
      ]
     },
     "execution_count": 11,
     "metadata": {},
     "output_type": "execute_result"
    }
   ],
   "source": [
    "sports1"
   ]
  },
  {
   "cell_type": "code",
   "execution_count": 12,
   "id": "e1c9db8e-6ba6-491e-907d-0673c5cc5613",
   "metadata": {},
   "outputs": [],
   "source": [
    "sports2= pd.Series([4,5,7,8], index=['Cricket','Football', 'Basketball', 'Golf'])"
   ]
  },
  {
   "cell_type": "code",
   "execution_count": 13,
   "id": "9b36d936-04da-44b0-86cf-673083f67ef8",
   "metadata": {},
   "outputs": [
    {
     "data": {
      "text/plain": [
       "Cricket       4\n",
       "Football      5\n",
       "Basketball    7\n",
       "Golf          8\n",
       "dtype: int64"
      ]
     },
     "execution_count": 13,
     "metadata": {},
     "output_type": "execute_result"
    }
   ],
   "source": [
    "sports2"
   ]
  },
  {
   "cell_type": "code",
   "execution_count": 14,
   "id": "3e0e5cda-1d45-49f3-91e3-3073ab7daff6",
   "metadata": {},
   "outputs": [
    {
     "data": {
      "text/plain": [
       "np.int64(5)"
      ]
     },
     "execution_count": 14,
     "metadata": {},
     "output_type": "execute_result"
    }
   ],
   "source": [
    "#sums between 2 different datas can be done, this is a simple usage of pandas, another advantage is we dont have to remember the indices\n",
    "sports1['Cricket']+sports2['Cricket']"
   ]
  },
  {
   "cell_type": "code",
   "execution_count": 15,
   "id": "acf034aa-10c0-4f72-9152-b07f50fcb9c3",
   "metadata": {},
   "outputs": [
    {
     "data": {
      "text/plain": [
       "Cricket        5\n",
       "Football       7\n",
       "Basketball    10\n",
       "Golf          12\n",
       "dtype: int64"
      ]
     },
     "execution_count": 15,
     "metadata": {},
     "output_type": "execute_result"
    }
   ],
   "source": [
    "sports1+sports2"
   ]
  },
  {
   "cell_type": "code",
   "execution_count": 20,
   "id": "64eda62b-b715-4f69-ab03-c7ecde9eb53e",
   "metadata": {},
   "outputs": [],
   "source": [
    "from numpy.random import randn #use certain things from the libraries because of space issues"
   ]
  },
  {
   "cell_type": "code",
   "execution_count": 21,
   "id": "cb18a2d5-0494-468a-a85c-c33bb99ee51e",
   "metadata": {},
   "outputs": [
    {
     "data": {
      "text/plain": [
       "array([[-0.22365727,  0.52822487, -0.04117018,  0.6047614 , -0.42220487],\n",
       "       [ 0.48084521, -1.9283017 , -0.49270197,  0.37503129,  0.80587692],\n",
       "       [-0.88413091, -1.44146206, -0.78392395,  1.59044605,  1.08752501],\n",
       "       [ 0.79872456,  1.2410264 ,  0.15192656, -1.24595716, -0.43766919],\n",
       "       [ 0.09310068,  1.17915864,  1.31877613,  1.03947508, -0.69269359],\n",
       "       [ 0.65397572,  1.2472119 , -0.78358588,  0.87345399, -0.7319191 ],\n",
       "       [-0.26831113,  0.52796141,  1.01877281, -0.35567753, -0.789421  ],\n",
       "       [ 0.18158605, -1.16616944, -0.5797457 ,  0.72805803, -0.64401169],\n",
       "       [-1.32797199,  1.5982005 , -1.16467219, -1.26829907,  0.65387364],\n",
       "       [-0.31529257, -0.95884971,  0.84030809,  0.2793456 , -0.56965226]])"
      ]
     },
     "execution_count": 21,
     "metadata": {},
     "output_type": "execute_result"
    }
   ],
   "source": [
    "randn(10,5)"
   ]
  },
  {
   "cell_type": "code",
   "execution_count": 27,
   "id": "e3ac9f20-331e-4e07-923c-d6aac97410aa",
   "metadata": {},
   "outputs": [],
   "source": [
    "dataframe= pd.DataFrame(randn(10,5),index= 'A B C D E F G H I J'.split(), columns= 's1 s2 s3 s4 s5'.split())"
   ]
  },
  {
   "cell_type": "code",
   "execution_count": 35,
   "id": "1aae09a7-440d-41aa-a77e-697d9deb5192",
   "metadata": {},
   "outputs": [
    {
     "data": {
      "text/html": [
       "<div>\n",
       "<style scoped>\n",
       "    .dataframe tbody tr th:only-of-type {\n",
       "        vertical-align: middle;\n",
       "    }\n",
       "\n",
       "    .dataframe tbody tr th {\n",
       "        vertical-align: top;\n",
       "    }\n",
       "\n",
       "    .dataframe thead th {\n",
       "        text-align: right;\n",
       "    }\n",
       "</style>\n",
       "<table border=\"1\" class=\"dataframe\">\n",
       "  <thead>\n",
       "    <tr style=\"text-align: right;\">\n",
       "      <th></th>\n",
       "      <th>s1</th>\n",
       "      <th>s2</th>\n",
       "      <th>s3</th>\n",
       "      <th>s4</th>\n",
       "      <th>s5</th>\n",
       "    </tr>\n",
       "  </thead>\n",
       "  <tbody>\n",
       "    <tr>\n",
       "      <th>A</th>\n",
       "      <td>0.700157</td>\n",
       "      <td>1.901252</td>\n",
       "      <td>-0.169593</td>\n",
       "      <td>-1.932997</td>\n",
       "      <td>-0.639218</td>\n",
       "    </tr>\n",
       "    <tr>\n",
       "      <th>B</th>\n",
       "      <td>0.304960</td>\n",
       "      <td>-0.180441</td>\n",
       "      <td>0.475299</td>\n",
       "      <td>-0.686689</td>\n",
       "      <td>-0.129328</td>\n",
       "    </tr>\n",
       "    <tr>\n",
       "      <th>C</th>\n",
       "      <td>0.132545</td>\n",
       "      <td>-0.137357</td>\n",
       "      <td>1.481157</td>\n",
       "      <td>1.061802</td>\n",
       "      <td>1.385864</td>\n",
       "    </tr>\n",
       "    <tr>\n",
       "      <th>D</th>\n",
       "      <td>-0.404252</td>\n",
       "      <td>0.377462</td>\n",
       "      <td>-0.473854</td>\n",
       "      <td>-0.735169</td>\n",
       "      <td>0.911842</td>\n",
       "    </tr>\n",
       "    <tr>\n",
       "      <th>E</th>\n",
       "      <td>-0.275706</td>\n",
       "      <td>0.043470</td>\n",
       "      <td>1.006086</td>\n",
       "      <td>-0.888227</td>\n",
       "      <td>1.804480</td>\n",
       "    </tr>\n",
       "    <tr>\n",
       "      <th>F</th>\n",
       "      <td>1.153450</td>\n",
       "      <td>0.666965</td>\n",
       "      <td>0.136657</td>\n",
       "      <td>0.238633</td>\n",
       "      <td>-0.350683</td>\n",
       "    </tr>\n",
       "    <tr>\n",
       "      <th>G</th>\n",
       "      <td>-1.937535</td>\n",
       "      <td>0.815894</td>\n",
       "      <td>0.158664</td>\n",
       "      <td>0.666732</td>\n",
       "      <td>0.091237</td>\n",
       "    </tr>\n",
       "    <tr>\n",
       "      <th>H</th>\n",
       "      <td>-0.407881</td>\n",
       "      <td>0.142854</td>\n",
       "      <td>0.203634</td>\n",
       "      <td>0.106147</td>\n",
       "      <td>-0.069341</td>\n",
       "    </tr>\n",
       "    <tr>\n",
       "      <th>I</th>\n",
       "      <td>-0.174667</td>\n",
       "      <td>-0.360226</td>\n",
       "      <td>-1.339219</td>\n",
       "      <td>-1.197415</td>\n",
       "      <td>1.276672</td>\n",
       "    </tr>\n",
       "    <tr>\n",
       "      <th>J</th>\n",
       "      <td>-0.709721</td>\n",
       "      <td>-0.747833</td>\n",
       "      <td>-2.104196</td>\n",
       "      <td>0.380026</td>\n",
       "      <td>0.523615</td>\n",
       "    </tr>\n",
       "  </tbody>\n",
       "</table>\n",
       "</div>"
      ],
      "text/plain": [
       "         s1        s2        s3        s4        s5\n",
       "A  0.700157  1.901252 -0.169593 -1.932997 -0.639218\n",
       "B  0.304960 -0.180441  0.475299 -0.686689 -0.129328\n",
       "C  0.132545 -0.137357  1.481157  1.061802  1.385864\n",
       "D -0.404252  0.377462 -0.473854 -0.735169  0.911842\n",
       "E -0.275706  0.043470  1.006086 -0.888227  1.804480\n",
       "F  1.153450  0.666965  0.136657  0.238633 -0.350683\n",
       "G -1.937535  0.815894  0.158664  0.666732  0.091237\n",
       "H -0.407881  0.142854  0.203634  0.106147 -0.069341\n",
       "I -0.174667 -0.360226 -1.339219 -1.197415  1.276672\n",
       "J -0.709721 -0.747833 -2.104196  0.380026  0.523615"
      ]
     },
     "execution_count": 35,
     "metadata": {},
     "output_type": "execute_result"
    }
   ],
   "source": [
    "dataframe"
   ]
  },
  {
   "cell_type": "code",
   "execution_count": 36,
   "id": "aebd1133-df0c-4974-8c04-a94e389409b5",
   "metadata": {},
   "outputs": [],
   "source": [
    "#different values because of random number"
   ]
  },
  {
   "cell_type": "code",
   "execution_count": 37,
   "id": "bbc4eab9-daa0-4fca-a2ad-b3db57c7aa2a",
   "metadata": {},
   "outputs": [
    {
     "data": {
      "text/plain": [
       "25"
      ]
     },
     "execution_count": 37,
     "metadata": {},
     "output_type": "execute_result"
    }
   ],
   "source": [
    "np.random.seed(3) #with this seed every random number generated is locked\n",
    "np.random.randint(1,100)"
   ]
  },
  {
   "cell_type": "code",
   "execution_count": null,
   "id": "d94ad03b-ad85-40a5-a787-fc02baf85253",
   "metadata": {},
   "outputs": [],
   "source": []
  }
 ],
 "metadata": {
  "kernelspec": {
   "display_name": "Python 3 (ipykernel)",
   "language": "python",
   "name": "python3"
  },
  "language_info": {
   "codemirror_mode": {
    "name": "ipython",
    "version": 3
   },
   "file_extension": ".py",
   "mimetype": "text/x-python",
   "name": "python",
   "nbconvert_exporter": "python",
   "pygments_lexer": "ipython3",
   "version": "3.12.4"
  }
 },
 "nbformat": 4,
 "nbformat_minor": 5
}
